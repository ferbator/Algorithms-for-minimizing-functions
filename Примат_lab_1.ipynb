{
  "nbformat": 4,
  "nbformat_minor": 0,
  "metadata": {
    "colab": {
      "name": "Примат-lab-1.ipynb",
      "provenance": [],
      "collapsed_sections": [
        "jLcjojxsNckJ",
        "aAKTLhdXXQZk",
        "R8J0pYtFdFia",
        "DvUk1tOkwjjl",
        "ABQ8nqWVMWCo"
      ]
    },
    "kernelspec": {
      "name": "python3",
      "display_name": "Python 3"
    },
    "language_info": {
      "name": "python"
    }
  },
  "cells": [
    {
      "cell_type": "markdown",
      "source": [
        "Команда: Карепин Денис, Колпикова Ксения, Жарков Григорий\n",
        "\n",
        "**Вариант 5**\n",
        "\n",
        "Техническое задание:\n",
        "Цель работы: реализовать алгоритмы одномерной минимизации функции без производной:\n",
        "1.\tМетод дихотомии.\n",
        "2.\tМетод Фибоначчи.\n",
        "3.\tМетод золотого сечения.\n",
        "4.\tМетод парабол.\n",
        "5.\tКомбинированный метод Брента.\n",
        "\n",
        "\n",
        "Сравнить методы по количеству итераций функции и зависимости от разной точности.\n"
      ],
      "metadata": {
        "id": "GY5Bb4pt4W0k"
      }
    },
    {
      "cell_type": "code",
      "source": [
        "import numpy as np\n",
        "\n",
        "def f(x):\n",
        "    return np.exp(np.sin(x)) * x * x"
      ],
      "metadata": {
        "id": "NGuF3hcu-h6Y"
      },
      "execution_count": null,
      "outputs": []
    },
    {
      "cell_type": "code",
      "source": [
        "import matplotlib.pyplot as plt\n",
        "\n",
        "a = 15\n",
        "b = 20\n",
        "\n",
        "X = np.linspace(a, b, 100)\n",
        "plt.grid()\n",
        "plt.plot(X, f(X))"
      ],
      "metadata": {
        "colab": {
          "base_uri": "https://localhost:8080/",
          "height": 282
        },
        "id": "RVCpgPPTG518",
        "outputId": "ff6d3f9d-e5ee-4f8f-a370-439eda0cfade"
      },
      "execution_count": null,
      "outputs": [
        {
          "output_type": "execute_result",
          "data": {
            "text/plain": [
              "[<matplotlib.lines.Line2D at 0x7fc66bbbff90>]"
            ]
          },
          "metadata": {},
          "execution_count": 48
        },
        {
          "output_type": "display_data",
          "data": {
            "text/plain": [
              "<Figure size 432x288 with 1 Axes>"
            ],
            "image/png": "[encoded data removed]"
          },
          "metadata": {
            "needs_background": "light"
          }
        }
      ]
    },
    {
      "cell_type": "markdown",
      "source": [
        "# Метод дихотомии"
      ],
      "metadata": {
        "id": "jLcjojxsNckJ"
      }
    },
    {
      "cell_type": "code",
      "source": [
        "def dichotomy_method(f, a, b, eps=1e-5):\n",
        "        n = 0\n",
        "        invocation = 0\n",
        "        while abs(a - b) > eps / 2:\n",
        "            x1 = (a + b) / 2 - eps/2\n",
        "            x2 = (a + b) / 2 + eps/2\n",
        "\n",
        "            fx1 = f(x1)\n",
        "            fx2 = f(x2)\n",
        "            if fx1 > fx2:\n",
        "                a = x2\n",
        "            elif fx1 < fx2:\n",
        "                b = x1\n",
        "            elif fx1 == fx2:\n",
        "                a = x2\n",
        "                b = x1\n",
        "            n += 1\n",
        "\n",
        "        return x1, n\n",
        " \n",
        " \n",
        "x, n = dichotomy_method(f, a, b)\n",
        "print(x)\n",
        "print(f(x))\n",
        "print(n)"
      ],
      "metadata": {
        "colab": {
          "base_uri": "https://localhost:8080/"
        },
        "id": "gZLvY0ZpNlt8",
        "outputId": "c4a672a9-32aa-4bd5-9194-35b0a850eeeb"
      },
      "execution_count": null,
      "outputs": [
        {
          "output_type": "stream",
          "name": "stdout",
          "text": [
            "17.16194538896561\n",
            "109.09334970863344\n",
            "19\n"
          ]
        }
      ]
    },
    {
      "cell_type": "markdown",
      "source": [
        "# Метод Фиббоначи\n"
      ],
      "metadata": {
        "id": "aAKTLhdXXQZk"
      }
    },
    {
      "cell_type": "code",
      "source": [
        "def fibonacci_numbers(n):\n",
        "  F1 = 1\n",
        "  F2 = 1\n",
        "  for _ in range(n):\n",
        "    F1, F2 = F2, F1 + F2\n",
        "  return F1\n",
        "\n",
        "def fibonacci_method(f, a, b, eps=1e-5):\n",
        "  n = 11\n",
        "  iteration = 0\n",
        "  invocation = 0\n",
        "  Fn = fibonacci_numbers(n)\n",
        "\n",
        "  x1 = a + (b - a) * (fibonacci_numbers(n - 2) / Fn)\n",
        "  x2 = a + (b - a) * (fibonacci_numbers(n - 1) / Fn)\n",
        "\n",
        "  fx1 = f(x1)\n",
        "  fx2 = f(x2)\n",
        "  k = 1\n",
        "  while k < n:\n",
        "    if (fx1 < fx2):\n",
        "      b = x2\n",
        "      x2 = x1\n",
        "      x1 = a + b - x2\n",
        "      fx2 = fx1\n",
        "      fx1 = f(x1)\n",
        "    elif (fx1 > fx2):\n",
        "      a = x1\n",
        "      x1 = x2\n",
        "      x2 = a + b - x1\n",
        "      fx1 = fx2\n",
        "      fx2 = f(x1)\n",
        "    k += 1\n",
        "    iteration += 1\n",
        "  return (x1 + x2) / 2, iteration\n",
        "\n",
        "\n",
        "x, n = fibonacci_method(f, a, b)\n",
        "print(x)\n",
        "print(f(x))\n",
        "print(n)"
      ],
      "metadata": {
        "colab": {
          "base_uri": "https://localhost:8080/"
        },
        "id": "sY2D3yhhXRA7",
        "outputId": "ab1120e9-af52-4538-e7f6-756e8518e4c6"
      },
      "execution_count": null,
      "outputs": [
        {
          "output_type": "stream",
          "name": "stdout",
          "text": [
            "17.135416666666668\n",
            "109.13121459776166\n",
            "10\n"
          ]
        }
      ]
    },
    {
      "cell_type": "markdown",
      "source": [
        "# Метод Золотого сечения\n",
        "\n",
        "![2022-03-27_17-18-09.png](data:image/png;base64,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)"
      ],
      "metadata": {
        "id": "R8J0pYtFdFia"
      }
    },
    {
      "cell_type": "code",
      "source": [
        "def golden_ratio_method(f, a, b, eps=1e-5):\n",
        "  n = 0\n",
        "  invocation = 0\n",
        "  x1 = b - (b - a) / 1.618\n",
        "  x2 = a + (b - a) / 1.618\n",
        "\n",
        "  y1 = f(x1)\n",
        "  y2 = f(x2)\n",
        "  while (b - a) / 2 > eps:\n",
        "    if y1 > y2:\n",
        "        a = x1\n",
        "        x1 = x2\n",
        "        x2 = b - (x1 - a)\n",
        "        y1 = y2\n",
        "        y2 = f(x2)\n",
        "    else:\n",
        "        b = x2\n",
        "        x2 = x1\n",
        "        x1 = a + (b - x2)\n",
        "        y2 = y1\n",
        "        y1 = f(x1)\n",
        "    n+=1\n",
        "  return (a+b) / 2, n\n",
        "\n",
        "x, n = golden_ratio_method(f, a, b)\n",
        "print(x)\n",
        "print(f(x))\n",
        "print(n)"
      ],
      "metadata": {
        "colab": {
          "base_uri": "https://localhost:8080/"
        },
        "id": "PDw81lD3dPGH",
        "outputId": "3c0c6eb1-3821-492e-fbbe-9e7ad0d8cc8e"
      },
      "execution_count": null,
      "outputs": [
        {
          "output_type": "stream",
          "name": "stdout",
          "text": [
            "17.2095179233623\n",
            "109.2153306174455\n",
            "14\n"
          ]
        }
      ]
    },
    {
      "cell_type": "markdown",
      "source": [
        "# Метод парабол"
      ],
      "metadata": {
        "id": "DvUk1tOkwjjl"
      }
    },
    {
      "cell_type": "code",
      "source": [
        "from numpy import linalg\n",
        "from numpy.linalg.linalg import LinAlgError\n",
        "\n",
        "def parabola_method(f, x1, x3, eps=1e-5):\n",
        "    x2 = (x1 + x3) / 2\n",
        "    n = 0\n",
        "    prev = 0\n",
        "\n",
        "    f_left = f(x1)\n",
        "    f_right = f(x2)\n",
        "    f_centre = f(x3)\n",
        "\n",
        "    while True:\n",
        "        matrix_a = np.array([[x1**2, x1, 1], \n",
        "                          [x2**2, x2, 1], \n",
        "                          [x3**2, x3, 1]])\n",
        "        matrix_b = np.array([f_left, f_centre, f_right])\n",
        "        try:\n",
        "            res = linalg.solve(matrix_a, matrix_b)\n",
        "        except LinAlgError:\n",
        "            print(\"решение не может быть найдено\")\n",
        "            break\n",
        "\n",
        "        a1 = res[0];\n",
        "        a2 = res[1]\n",
        "        a3 = res[2]\n",
        "\n",
        "        u = -a2/(2*a1)\n",
        "\n",
        "        f_peak = f(u)\n",
        "\n",
        "        if f_peak < f_centre:\n",
        "            if u <= x2:\n",
        "                x3 = x2\n",
        "                f_centre = f_peak\n",
        "                f_right = f_centre\n",
        "            else:\n",
        "                x1 = x2\n",
        "                x2 = u\n",
        "                f_left = f_centre\n",
        "                f_centre = f_peak\n",
        "        else:\n",
        "            if u <= x2:\n",
        "                x1 = u\n",
        "                f_left = f_peak\n",
        "            else:\n",
        "                x3 = u\n",
        "                f_right = f_peak\n",
        "\n",
        "        n += 1\n",
        "        prev = u\n",
        "\n",
        "        if abs(prev - u) < eps:\n",
        "          break\n",
        "\n",
        "    return u, n\n",
        "    \n",
        "x, n = parabola_method(f, a, b)\n",
        "print(x)\n",
        "print(f(x))\n",
        "print(n)"
      ],
      "metadata": {
        "colab": {
          "base_uri": "https://localhost:8080/"
        },
        "id": "-CgLLnl9wuAo",
        "outputId": "2d580571-b64e-451f-8805-940c28bc2c95"
      },
      "execution_count": null,
      "outputs": [
        {
          "output_type": "stream",
          "name": "stdout",
          "text": [
            "17.227253795184314\n",
            "109.32350649013539\n",
            "1\n"
          ]
        }
      ]
    },
    {
      "cell_type": "markdown",
      "source": [
        "# Комбинированный метод Брента"
      ],
      "metadata": {
        "id": "ABQ8nqWVMWCo"
      }
    },
    {
      "cell_type": "code",
      "source": [
        "from numpy.linalg.linalg import LinAlgError\n",
        "\n",
        "def brent_method(f, a, b, eps=1e-5):\n",
        "  r = 0.382\n",
        "  x, w, v = a + r * (b - a), a + r * (b - a), a + r * (b - a)\n",
        "  d_cur, d_prev = b - a, b - a\n",
        "\n",
        "  n = 0\n",
        "  \n",
        "  fx = f(x)\n",
        "  fw = f(x)\n",
        "  fv = f(x)\n",
        "\n",
        "  while max(x - a, b - x) >= eps:\n",
        "    g, d_prev = d_prev / 2, d_cur\n",
        "    y = [[x**2, x, 1], [w**2, w, 1], [v**2, v, 1]]\n",
        "    z = [fx, fw, fv]  \n",
        "\n",
        "    try:\n",
        "      ans = np.linalg.solve(y, z)\n",
        "      u = -ans[1] / (2 * ans[0])\n",
        "    except LinAlgError:\n",
        "      if (x < (a + b) / 2):\n",
        "        u, d_prev = x + r * (b - x), b - x\n",
        "      else:\n",
        "        u, d_prev = x - r * (x - a), x - a\n",
        "\n",
        "    d_cur = abs(u - x)\n",
        "    fu = f(u)\n",
        "    if fu > fx:\n",
        "      if u < x:\n",
        "        a = u\n",
        "      else:\n",
        "        b = u\n",
        "      if fu <= fw or w == x:\n",
        "        fv = fw\n",
        "        v, w = w, u\n",
        "        fw = fu\n",
        "      else:\n",
        "        if fu <= fv or x == v or v == w:\n",
        "          v = u\n",
        "          fv = fu\n",
        "    else:\n",
        "      if u < x:\n",
        "        b = x\n",
        "      else:\n",
        "        a = x\n",
        "    \n",
        "    fv = fw\n",
        "    fw = fx\n",
        "    fx = fu\n",
        "    \n",
        "    v, w, x = w, x, u\n",
        "    n += 1\n",
        "  return x, n\n",
        "\n",
        "x, n = brent_method(f, a, b)\n",
        "print(x)\n",
        "print(f(x))\n",
        "print(n)"
      ],
      "metadata": {
        "id": "X003Rwa1GjpC",
        "colab": {
          "base_uri": "https://localhost:8080/"
        },
        "outputId": "9c3341ed-52c5-4812-c9c3-b617748f3bd3"
      },
      "execution_count": null,
      "outputs": [
        {
          "output_type": "stream",
          "name": "stdout",
          "text": [
            "17.161956119038315\n",
            "109.09334970099653\n",
            "9\n"
          ]
        }
      ]
    }
  ]
}